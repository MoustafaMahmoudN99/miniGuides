{
 "cells": [
  {
   "cell_type": "markdown",
   "id": "c646896d",
   "metadata": {},
   "source": [
    "# Numpy v1.13\n",
    "# Content:\n",
    "1. Numpy vs Regular python\n",
    "2. How to create a numpy 1D array?\n",
    "3. How to create a numpy 2D array?\n",
    "4. How to create a string 1D array ?\n",
    "5. Create a String and int in 1D array\n",
    "6. Create a float and int in 1D array (upcasting)\n",
    "7. Create a float and int in 1D array (upcasting with int)\n",
    "8. Saving numpy array into a file\n",
    "9. Loading a numpy array from a file\n",
    "\n",
    "### How to generate numpy array from nothing?\n",
    "10. Generate 2D zeros Array\n",
    "11. Generate 2D ones Array\n",
    "12. Generate array with full function\n",
    "13. Generate Identity matrix\n",
    "14. Generate diagonal matrix\n",
    "15. Generate 1D array using arrange function\n",
    "16. Generate 1D aaray by using linspace function\n",
    "17. How to reshape an aranged 1D array to 2D array?\n",
    "18. How to reshape linspace 1D array to 2D array?\n",
    "19. Create random array\n",
    "20. Create a 1000 x 1000 ndarray of random floats drawn from normal (Gaussian) distribution\n",
    "\n",
    "##### *Question: create a 4 x 4 ndarray that only contains consecutive even numbers from 2 to 32 (inclusive)\n",
    "21. Accessing, Deleting, and Inserting Elements Into ndarrays\n",
    "22. How to delete element from array?\n",
    "23. How to append an element to array?\n",
    "24. How to insert element to an array?\n",
    "25. How to stack an array to another vertical and horizontal?\n",
    "26. Slicing ndarrays\n",
    "27. Slicing important feature\n",
    "28. Using copy function with slicing\n",
    "29. Using 1D array as indices for slicing\n",
    "30. Using diag function to get the diagonal elements\n",
    "31. Using unique function with array\n",
    "\n",
    "### Boolean Indexing, Set Operations, and Sorting\n",
    "32. Boolean indexing\n",
    "33. Set operations and comparing two arrays\n",
    "34. Sorting using sort function\n",
    "35. Keeping only unique elements after sorting\n",
    "36. Sorting using sort method\n",
    "37. Sorting 2D array by columns and rows\n",
    "\n",
    "### Arithmetic operations and Broadcasting\n",
    "38. Arithmetic operations\n",
    "39. Arithmetic operations on 2D arrays\n",
    "40. Using sqrt, exp, power functions\n",
    "41. Using mean, sum, min, max, standard deviation, median\n",
    "42. Add single numbers to all the elements of 2D array\n",
    "43. Broadcasting\n"
   ]
  },
  {
   "cell_type": "markdown",
   "id": "24f67973",
   "metadata": {},
   "source": [
    "# 1. Numpy vs Regular python"
   ]
  },
  {
   "cell_type": "code",
   "execution_count": 1,
   "id": "15c555ed",
   "metadata": {},
   "outputs": [],
   "source": [
    "import numpy as np\n",
    "import time"
   ]
  },
  {
   "cell_type": "code",
   "execution_count": 2,
   "id": "996ba694",
   "metadata": {},
   "outputs": [],
   "source": [
    "x=np.random.random(10000000)"
   ]
  },
  {
   "cell_type": "code",
   "execution_count": 3,
   "id": "3731c132",
   "metadata": {},
   "outputs": [
    {
     "name": "stdout",
     "output_type": "stream",
     "text": [
      "0.6821761131286621\n"
     ]
    }
   ],
   "source": [
    "start_time=time.time()\n",
    "mean_py=sum(x)/len(x)\n",
    "execute_time=time.time()-start_time\n",
    "print(execute_time)"
   ]
  },
  {
   "cell_type": "code",
   "execution_count": 4,
   "id": "340d4483",
   "metadata": {},
   "outputs": [
    {
     "name": "stdout",
     "output_type": "stream",
     "text": [
      "0.012978792190551758\n"
     ]
    }
   ],
   "source": [
    "start_time=time.time()\n",
    "mean_numpy=np.mean(x)\n",
    "execute_time=time.time()-start_time\n",
    "print(execute_time)"
   ]
  },
  {
   "cell_type": "markdown",
   "id": "4ada93e9",
   "metadata": {},
   "source": [
    "# 2. How to create a numpy 1D array?"
   ]
  },
  {
   "cell_type": "code",
   "execution_count": 5,
   "id": "30770067",
   "metadata": {},
   "outputs": [
    {
     "name": "stdout",
     "output_type": "stream",
     "text": [
      "x =  [1 2 3 4 5]\n",
      "<class 'numpy.ndarray'>\n",
      "The elements in x are of type: int32\n",
      "x has dimensions: (5,)\n"
     ]
    }
   ],
   "source": [
    "# We create a 1D ndarray that contains only integers\n",
    "x = np.array([1, 2, 3, 4, 5])\n",
    "# Let's print the ndarray we just created using the print() command\n",
    "print('x = ', x)\n",
    "print(type(x))\n",
    "print('The elements in x are of type:', x.dtype)\n",
    "print('x has dimensions:', x.shape)"
   ]
  },
  {
   "cell_type": "markdown",
   "id": "f7d79535",
   "metadata": {},
   "source": [
    "# 3. How to create a numpy 2D array?"
   ]
  },
  {
   "cell_type": "code",
   "execution_count": 6,
   "id": "b6bec53d",
   "metadata": {},
   "outputs": [
    {
     "name": "stdout",
     "output_type": "stream",
     "text": [
      "Y = \n",
      " [[ 1  2  3]\n",
      " [ 4  5  6]\n",
      " [ 7  8  9]\n",
      " [10 11 12]] \n",
      "\n",
      "Y has dimensions: (4, 3)\n",
      "Y has a total of 12 elements\n",
      "Y is an object of type: <class 'numpy.ndarray'>\n",
      "The elements in Y are of type: int32\n"
     ]
    }
   ],
   "source": [
    "# We create a rank 2 ndarray that only contains integers\n",
    "Y = np.array([[1,2,3],[4,5,6],[7,8,9], [10,11,12]])\n",
    "\n",
    "# We print Y\n",
    "print('Y = \\n', Y, '\\n')\n",
    "\n",
    "# We print information about Y\n",
    "print('Y has dimensions:', Y.shape)\n",
    "print('Y has a total of', Y.size, 'elements')\n",
    "print('Y is an object of type:', type(Y))\n",
    "print('The elements in Y are of type:', Y.dtype)"
   ]
  },
  {
   "cell_type": "markdown",
   "id": "330e9637",
   "metadata": {},
   "source": [
    "# 4. How to create a string 1D array?"
   ]
  },
  {
   "cell_type": "code",
   "execution_count": 7,
   "id": "fb9b2916",
   "metadata": {},
   "outputs": [
    {
     "name": "stdout",
     "output_type": "stream",
     "text": [
      "x =  ['Hello' 'World']\n",
      "x has dimensions: (2,)\n",
      "x is an object of type: <class 'numpy.ndarray'>\n",
      "The elements in x are of type: <U5\n"
     ]
    }
   ],
   "source": [
    "# We create a rank 1 ndarray that only contains strings\n",
    "x = np.array(['Hello', 'World'])\n",
    "\n",
    "# We print x\n",
    "print('x = ', x)\n",
    "# We print information about x\n",
    "print('x has dimensions:', x.shape)\n",
    "print('x is an object of type:', type(x))\n",
    "print('The elements in x are of type:', x.dtype)"
   ]
  },
  {
   "cell_type": "markdown",
   "id": "6846a27e",
   "metadata": {},
   "source": [
    "#### to read more abut numpy data type you can use this link :\n",
    "https://docs.scipy.org/doc/numpy-1.13.0/user/basics.types.html"
   ]
  },
  {
   "cell_type": "markdown",
   "id": "211149e2",
   "metadata": {},
   "source": [
    "# 5. Create a String and int in 1D array"
   ]
  },
  {
   "cell_type": "code",
   "execution_count": 8,
   "id": "b0e24151",
   "metadata": {},
   "outputs": [
    {
     "name": "stdout",
     "output_type": "stream",
     "text": [
      "x =  ['1' '2' 'World']\n",
      "\n",
      "\n",
      "x has dimensions: (3,)\n",
      "x is an object of type: <class 'numpy.ndarray'>\n",
      "The elements in x are of type: <U11\n"
     ]
    }
   ],
   "source": [
    "# We create a rank 1 ndarray from a Python list that contains integers and strings\n",
    "x = np.array([1, 2, 'World'])\n",
    "\n",
    "# We print the ndarray\n",
    "print('x = ', x)\n",
    "print(\"\\n\")\n",
    "\n",
    "# We print information about x\n",
    "print('x has dimensions:', x.shape)\n",
    "print('x is an object of type:', type(x))\n",
    "print('The elements in x are of type:', x.dtype)"
   ]
  },
  {
   "cell_type": "markdown",
   "id": "60a8a94f",
   "metadata": {},
   "source": [
    "# 6. Create a float and int in 1D array (upcasting)"
   ]
  },
  {
   "cell_type": "code",
   "execution_count": 9,
   "id": "7d8f9f91",
   "metadata": {},
   "outputs": [
    {
     "name": "stdout",
     "output_type": "stream",
     "text": [
      "The elements in x are of type: int32\n",
      "The elements in y are of type: float64\n",
      "The elements in z are of type: float64\n"
     ]
    }
   ],
   "source": [
    "# We create a rank 1 ndarray that contains integers\n",
    "x = np.array([1,2,3])\n",
    "\n",
    "# We create a rank 1 ndarray that contains floats\n",
    "y = np.array([1.0,2.0,3.0])\n",
    "\n",
    "# We create a rank 1 ndarray that contains integers and floats\n",
    "z = np.array([1, 2.5, 4])\n",
    "\n",
    "# We print the dtype of each ndarray\n",
    "print('The elements in x are of type:', x.dtype)\n",
    "print('The elements in y are of type:', y.dtype)\n",
    "print('The elements in z are of type:', z.dtype)"
   ]
  },
  {
   "cell_type": "markdown",
   "id": "1583aa26",
   "metadata": {},
   "source": [
    "# 7. Create a float and int in 1D array (upcasting with int)"
   ]
  },
  {
   "cell_type": "code",
   "execution_count": 10,
   "id": "6f1a7f54",
   "metadata": {},
   "outputs": [
    {
     "name": "stdout",
     "output_type": "stream",
     "text": [
      "x =  [1 2 3 4 5]\n",
      "\n",
      "The elements in x are of type: int32\n"
     ]
    }
   ],
   "source": [
    "# We create a rank 1 ndarray of floats but set the dtype to int64\n",
    "x = np.array([1.5, 2.2, 3.7, 4.0, 5.9], dtype = np.int32)\n",
    "\n",
    "# We print x\n",
    "print('x = ', x)\n",
    "print()\n",
    "\n",
    "# We print the dtype x\n",
    "print('The elements in x are of type:', x.dtype)"
   ]
  },
  {
   "cell_type": "markdown",
   "id": "33636df8",
   "metadata": {},
   "source": [
    "# 8. Saving numpy array into a file"
   ]
  },
  {
   "cell_type": "code",
   "execution_count": 11,
   "id": "cafb9f31",
   "metadata": {},
   "outputs": [],
   "source": [
    "# We create a rank 1 ndarray\n",
    "x = np.array([1, 2, 3, 4, 5])\n",
    "\n",
    "# We save x into the current directory as \n",
    "np.save('my_array', x)"
   ]
  },
  {
   "cell_type": "markdown",
   "id": "5c510d5a",
   "metadata": {},
   "source": [
    "# 9. Loading a numpy array from a file"
   ]
  },
  {
   "cell_type": "code",
   "execution_count": 12,
   "id": "bf00ea9f",
   "metadata": {},
   "outputs": [
    {
     "name": "stdout",
     "output_type": "stream",
     "text": [
      "y =  [1 2 3 4 5]\n",
      "\n",
      "\n",
      "y is an object of type: <class 'numpy.ndarray'>\n",
      "The elements in y are of type: int32\n"
     ]
    }
   ],
   "source": [
    "# We load the saved array from our current directory into variable y\n",
    "y = np.load('my_array.npy')\n",
    "\n",
    "# We print y\n",
    "print('y = ', y)\n",
    "print(\"\\n\")\n",
    "\n",
    "# We print information about the ndarray we loaded\n",
    "print('y is an object of type:', type(y))\n",
    "print('The elements in y are of type:', y.dtype)"
   ]
  },
  {
   "cell_type": "markdown",
   "id": "60f4b19c",
   "metadata": {},
   "source": [
    "# How to generate numpy array from nothing ?"
   ]
  },
  {
   "cell_type": "markdown",
   "id": "47d55758",
   "metadata": {},
   "source": [
    "# 10. Generate 2D zeros Array"
   ]
  },
  {
   "cell_type": "code",
   "execution_count": 13,
   "id": "aeb8bef5",
   "metadata": {},
   "outputs": [
    {
     "name": "stdout",
     "output_type": "stream",
     "text": [
      "X =\n",
      " [[0. 0. 0. 0.]\n",
      " [0. 0. 0. 0.]\n",
      " [0. 0. 0. 0.]]\n",
      "\n",
      "\n",
      "X has dimensions: (3, 4)\n",
      "X is an object of type: <class 'numpy.ndarray'>\n",
      "The elements in X are of type: float64\n"
     ]
    }
   ],
   "source": [
    "# We create a 3 x 4 ndarray full of zeros. \n",
    "X = np.zeros((3,4))\n",
    "\n",
    "# We print X\n",
    "print('X =\\n', X)\n",
    "print(\"\\n\")\n",
    "\n",
    "# We print information about X\n",
    "print('X has dimensions:', X.shape)\n",
    "print('X is an object of type:', type(X))\n",
    "print('The elements in X are of type:', X.dtype)"
   ]
  },
  {
   "cell_type": "markdown",
   "id": "32e15d32",
   "metadata": {},
   "source": [
    "# 11. Generate 2D ones Array"
   ]
  },
  {
   "cell_type": "code",
   "execution_count": 14,
   "id": "4335b9b7",
   "metadata": {},
   "outputs": [
    {
     "name": "stdout",
     "output_type": "stream",
     "text": [
      "X = \n",
      " [[1. 1.]\n",
      " [1. 1.]\n",
      " [1. 1.]]\n",
      "\n",
      "\n",
      "X has dimensions: (3, 2)\n",
      "X is an object of type: <class 'numpy.ndarray'>\n",
      "The elements in X are of type: float64\n"
     ]
    }
   ],
   "source": [
    "# We create a 3 x 2 ndarray full of ones. \n",
    "X = np.ones((3,2))\n",
    "\n",
    "# We print X\n",
    "\n",
    "print('X = \\n', X)\n",
    "print(\"\\n\")\n",
    "\n",
    "# We print information about X\n",
    "print('X has dimensions:', X.shape)\n",
    "print('X is an object of type:', type(X))\n",
    "print('The elements in X are of type:', X.dtype)"
   ]
  },
  {
   "cell_type": "markdown",
   "id": "ffae0900",
   "metadata": {},
   "source": [
    "# 12. Generate array with full function"
   ]
  },
  {
   "cell_type": "code",
   "execution_count": 15,
   "id": "b77d000e",
   "metadata": {},
   "outputs": [
    {
     "name": "stdout",
     "output_type": "stream",
     "text": [
      "X = \n",
      " [[5. 5. 5.]\n",
      " [5. 5. 5.]]\n",
      "\n",
      "\n",
      "X has dimensions: (2, 3)\n",
      "X is an object of type: <class 'numpy.ndarray'>\n",
      "The elements in X are of type: float64\n"
     ]
    }
   ],
   "source": [
    "# We create a 2 x 3 ndarray full of fives. \n",
    "X = np.full((2,3), 5.0) \n",
    "\n",
    "# We print X\n",
    "print('X = \\n', X)\n",
    "print('\\n')\n",
    "\n",
    "# We print information about X\n",
    "print('X has dimensions:', X.shape)\n",
    "print('X is an object of type:', type(X))\n",
    "print('The elements in X are of type:', X.dtype)"
   ]
  },
  {
   "cell_type": "markdown",
   "id": "7f7e2e9d",
   "metadata": {},
   "source": [
    "# 13. Generate Identity matrix"
   ]
  },
  {
   "cell_type": "code",
   "execution_count": 16,
   "id": "29fdd3f7",
   "metadata": {},
   "outputs": [
    {
     "name": "stdout",
     "output_type": "stream",
     "text": [
      "X = \n",
      " [[1. 0. 0. 0. 0.]\n",
      " [0. 1. 0. 0. 0.]\n",
      " [0. 0. 1. 0. 0.]\n",
      " [0. 0. 0. 1. 0.]\n",
      " [0. 0. 0. 0. 1.]]\n",
      "\n",
      "\n",
      "X has dimensions: (5, 5)\n",
      "X is an object of type: <class 'numpy.ndarray'>\n",
      "The elements in X are of type: float64\n"
     ]
    }
   ],
   "source": [
    "# We create a 5 x 5 Identity matrix. \n",
    "X = np.eye(5)\n",
    "\n",
    "# We print X\n",
    "print('X = \\n', X)\n",
    "print('\\n')\n",
    "\n",
    "# We print information about X\n",
    "print('X has dimensions:', X.shape)\n",
    "print('X is an object of type:', type(X))\n",
    "print('The elements in X are of type:', X.dtype) "
   ]
  },
  {
   "cell_type": "markdown",
   "id": "dc18cd4c",
   "metadata": {},
   "source": [
    "# 14. Generate diagonal matrix"
   ]
  },
  {
   "cell_type": "code",
   "execution_count": 17,
   "id": "5eba149f",
   "metadata": {},
   "outputs": [
    {
     "name": "stdout",
     "output_type": "stream",
     "text": [
      "X = \n",
      " [[10  0  0  0]\n",
      " [ 0 20  0  0]\n",
      " [ 0  0 30  0]\n",
      " [ 0  0  0 50]]\n"
     ]
    }
   ],
   "source": [
    "# Create a 4 x 4 diagonal matrix that contains the numbers 10,20,30, and 50\n",
    "# on its main diagonal\n",
    "X = np.diag([10,20,30,50])\n",
    "\n",
    "# We print X\n",
    "print('X = \\n', X)"
   ]
  },
  {
   "cell_type": "markdown",
   "id": "befeba03",
   "metadata": {},
   "source": [
    "# 15. Generate 1D array using arrange function"
   ]
  },
  {
   "cell_type": "code",
   "execution_count": 18,
   "id": "6c02ab2b",
   "metadata": {},
   "outputs": [
    {
     "name": "stdout",
     "output_type": "stream",
     "text": [
      "x =  [0 1 2 3 4 5 6 7 8 9]\n",
      "\n",
      "\n",
      "x has dimensions: (10,)\n",
      "x is an object of type: <class 'numpy.ndarray'>\n",
      "The elements in x are of type: int32\n"
     ]
    }
   ],
   "source": [
    "# We create a rank 1 ndarray that has sequential integers from 0 to 9\n",
    "x = np.arange(10)\n",
    "\n",
    "# We print the ndarray\n",
    "print('x = ', x)\n",
    "print('\\n')\n",
    "\n",
    "# We print information about the ndarray\n",
    "print('x has dimensions:', x.shape)\n",
    "print('x is an object of type:', type(x))\n",
    "print('The elements in x are of type:', x.dtype)"
   ]
  },
  {
   "cell_type": "code",
   "execution_count": 19,
   "id": "0652187c",
   "metadata": {},
   "outputs": [
    {
     "name": "stdout",
     "output_type": "stream",
     "text": [
      "x =  [4 5 6 7 8 9]\n",
      "\n",
      "\n",
      "x has dimensions: (6,)\n",
      "x is an object of type: <class 'numpy.ndarray'>\n",
      "The elements in x are of type: int32\n"
     ]
    }
   ],
   "source": [
    "# We create a rank 1 ndarray that has sequential integers from 4 to 9. \n",
    "x = np.arange(4,10)\n",
    "\n",
    "# We print the ndarray\n",
    "print('x = ', x)\n",
    "print('\\n')\n",
    "\n",
    "# We print information about the ndarray\n",
    "print('x has dimensions:', x.shape)\n",
    "print('x is an object of type:', type(x))\n",
    "print('The elements in x are of type:', x.dtype)"
   ]
  },
  {
   "cell_type": "code",
   "execution_count": 20,
   "id": "3ad4a6bf",
   "metadata": {},
   "outputs": [
    {
     "name": "stdout",
     "output_type": "stream",
     "text": [
      "x =  [ 1  4  7 10 13]\n",
      "\n",
      "\n",
      "x has dimensions: (5,)\n",
      "x is an object of type: <class 'numpy.ndarray'>\n",
      "The elements in x are of type: int32\n"
     ]
    }
   ],
   "source": [
    "# We create a rank 1 ndarray that has evenly spaced integers from 1 to 13 in steps of 3.\n",
    "x = np.arange(1,14,3)\n",
    "\n",
    "# We print the ndarray\n",
    "print('x = ', x)\n",
    "print('\\n')\n",
    "\n",
    "# We print information about the ndarray\n",
    "print('x has dimensions:', x.shape)\n",
    "print('x is an object of type:', type(x))\n",
    "print('The elements in x are of type:', x.dtype)"
   ]
  },
  {
   "cell_type": "code",
   "execution_count": 21,
   "id": "bcb179e8",
   "metadata": {},
   "outputs": [
    {
     "name": "stdout",
     "output_type": "stream",
     "text": [
      "x =  [ 1.   1.3  1.6  1.9  2.2  2.5  2.8  3.1  3.4  3.7  4.   4.3  4.6  4.9\n",
      "  5.2  5.5  5.8  6.1  6.4  6.7  7.   7.3  7.6  7.9  8.2  8.5  8.8  9.1\n",
      "  9.4  9.7 10.  10.3 10.6 10.9 11.2 11.5 11.8 12.1 12.4 12.7 13.  13.3\n",
      " 13.6 13.9]\n",
      "\n",
      "\n",
      "x has dimensions: (44,)\n",
      "x is an object of type: <class 'numpy.ndarray'>\n",
      "The elements in x are of type: float64\n"
     ]
    }
   ],
   "source": [
    "# We create a rank 1 ndarray that has evenly spaced integers from 1 to 13 in steps of 0.3.\n",
    "x = np.arange(1,14,0.3)\n",
    "\n",
    "# We print the ndarray\n",
    "print('x = ', x)\n",
    "print('\\n')\n",
    "\n",
    "# We print information about the ndarray\n",
    "print('x has dimensions:', x.shape)\n",
    "print('x is an object of type:', type(x))\n",
    "print('The elements in x are of type:', x.dtype)"
   ]
  },
  {
   "cell_type": "markdown",
   "id": "b9f8f350",
   "metadata": {},
   "source": [
    "# 16. Generate 1D aaray by using linspace function"
   ]
  },
  {
   "cell_type": "code",
   "execution_count": 22,
   "id": "7d322152",
   "metadata": {},
   "outputs": [
    {
     "name": "stdout",
     "output_type": "stream",
     "text": [
      "x = \n",
      " [ 0.          2.77777778  5.55555556  8.33333333 11.11111111 13.88888889\n",
      " 16.66666667 19.44444444 22.22222222 25.        ]\n",
      "\n",
      "\n",
      "x has dimensions: (10,)\n",
      "x is an object of type: <class 'numpy.ndarray'>\n",
      "The elements in x are of type: float64\n"
     ]
    }
   ],
   "source": [
    "import numpy as np\n",
    "x=np.linspace(0,25,10)\n",
    "# step= (sotp-start)/(N-1)\n",
    "# step= (25-0)/(10-1)\n",
    "\n",
    "print('x = \\n', x)\n",
    "print('\\n')\n",
    "\n",
    "# We print information about the ndarray\n",
    "print('x has dimensions:', x.shape)\n",
    "print('x is an object of type:', type(x))\n",
    "print('The elements in x are of type:', x.dtype) "
   ]
  },
  {
   "cell_type": "code",
   "execution_count": 23,
   "id": "12af1d03",
   "metadata": {},
   "outputs": [
    {
     "name": "stdout",
     "output_type": "stream",
     "text": [
      "x =  [ 5.  10.8 16.6 22.4 28.2 34.  39.8 45.6 51.4 57.2]\n",
      "\n",
      "\n",
      "x has dimensions: (10,)\n",
      "x is an object of type: <class 'numpy.ndarray'>\n",
      "The elements in x are of type: float64\n"
     ]
    }
   ],
   "source": [
    "x=np.linspace(5,63,10,endpoint=False)\n",
    "# step=(stop-start)/N\n",
    "# step=(63-5)/10\n",
    "print('x = ', x)\n",
    "print('\\n')\n",
    "\n",
    "# We print information about the ndarray\n",
    "print('x has dimensions:', x.shape)\n",
    "print('x is an object of type:', type(x))\n",
    "print('The elements in x are of type:', x.dtype)"
   ]
  },
  {
   "cell_type": "markdown",
   "id": "1993e108",
   "metadata": {},
   "source": [
    "# 17. How to reshape an aranged 1D array to 2D array?"
   ]
  },
  {
   "cell_type": "code",
   "execution_count": 24,
   "id": "d5ce12bd",
   "metadata": {},
   "outputs": [
    {
     "name": "stdout",
     "output_type": "stream",
     "text": [
      "Original x =  [ 0  1  2  3  4  5  6  7  8  9 10 11 12 13 14 15 16 17 18 19]\n",
      "Reshaped x = \n",
      " [[ 0  1  2  3  4]\n",
      " [ 5  6  7  8  9]\n",
      " [10 11 12 13 14]\n",
      " [15 16 17 18 19]]\n",
      "\n",
      "\n",
      "x has dimensions: (4, 5)\n",
      "x is an object of type: <class 'numpy.ndarray'>\n",
      "The elements in x are of type: int32\n"
     ]
    }
   ],
   "source": [
    "# We create a rank 1 ndarray with sequential integers from 0 to 19\n",
    "x = np.arange(20)\n",
    "\n",
    "# We print x\n",
    "print('Original x = ', x)\n",
    "\n",
    "# We reshape x into a 4 x 5 ndarray \n",
    "x = np.reshape(x, (4,5))\n",
    "\n",
    "# We print the reshaped x\n",
    "print('Reshaped x = \\n', x)\n",
    "print('\\n')\n",
    "\n",
    "# We print information about the reshaped x\n",
    "print('x has dimensions:', x.shape)\n",
    "print('x is an object of type:', type(x))\n",
    "print('The elements in x are of type:', x.dtype)"
   ]
  },
  {
   "cell_type": "code",
   "execution_count": 25,
   "id": "149c4169",
   "metadata": {},
   "outputs": [
    {
     "name": "stdout",
     "output_type": "stream",
     "text": [
      "Y = \n",
      " [[ 0  1  2  3  4]\n",
      " [ 5  6  7  8  9]\n",
      " [10 11 12 13 14]\n",
      " [15 16 17 18 19]]\n",
      "\n",
      "Y has dimensions: (4, 5)\n",
      "Y is an object of type: <class 'numpy.ndarray'>\n",
      "The elements in Y are of type: int32\n"
     ]
    }
   ],
   "source": [
    "# We create a a rank 1 ndarray with sequential integers from 0 to 19 and\n",
    "# reshape it to a 4 x 5 array \n",
    "Y = np.arange(20).reshape(4, 5)\n",
    "\n",
    "# We print Y\n",
    "print('Y = \\n', Y)\n",
    "print()\n",
    "\n",
    "# We print information about Y\n",
    "print('Y has dimensions:', Y.shape)\n",
    "print('Y is an object of type:', type(Y))\n",
    "print('The elements in Y are of type:', Y.dtype) "
   ]
  },
  {
   "cell_type": "markdown",
   "id": "97c286d4",
   "metadata": {},
   "source": [
    "# 18. How to reshape linspace 1D array to 2D array?"
   ]
  },
  {
   "cell_type": "code",
   "execution_count": 26,
   "id": "000b6884",
   "metadata": {},
   "outputs": [
    {
     "name": "stdout",
     "output_type": "stream",
     "text": [
      "X = \n",
      " [[ 0.  5.]\n",
      " [10. 15.]\n",
      " [20. 25.]\n",
      " [30. 35.]\n",
      " [40. 45.]]\n",
      "\n",
      "\n",
      "X has dimensions: (5, 2)\n",
      "X is an object of type: <class 'numpy.ndarray'>\n",
      "The elements in X are of type: float64\n"
     ]
    }
   ],
   "source": [
    "# We create a rank 1 ndarray with 10 integers evenly spaced between 0 and 50,\n",
    "# with 50 excluded. We then reshape it to a 5 x 2 ndarray\n",
    "X = np.linspace(0,50,10, endpoint=False).reshape(5,2)\n",
    "\n",
    "# We print X\n",
    "print('X = \\n', X)\n",
    "print('\\n')\n",
    "\n",
    "# We print information about X\n",
    "print('X has dimensions:', X.shape)\n",
    "print('X is an object of type:', type(X))\n",
    "print('The elements in X are of type:', X.dtype)"
   ]
  },
  {
   "cell_type": "markdown",
   "id": "f0a4d331",
   "metadata": {},
   "source": [
    "# 19. Create random array"
   ]
  },
  {
   "cell_type": "code",
   "execution_count": 27,
   "id": "f203155c",
   "metadata": {},
   "outputs": [
    {
     "name": "stdout",
     "output_type": "stream",
     "text": [
      "X = \n",
      " [[0.64923802 0.66933975 0.03602322]\n",
      " [0.71544002 0.87214176 0.86414931]\n",
      " [0.48634448 0.28742625 0.02212149]]\n",
      "\n",
      "\n",
      "X has dimensions: (3, 3)\n",
      "X is an object of type: <class 'numpy.ndarray'>\n",
      "The elements in x are of type: float64\n"
     ]
    }
   ],
   "source": [
    "# We create a 3 x 3 ndarray with random floats in the half-open interval [0.0, 1.0).\n",
    "X = np.random.random(size=(3,3))\n",
    "\n",
    "# We print X\n",
    "print('X = \\n', X)\n",
    "print('\\n')\n",
    "\n",
    "# We print information about X\n",
    "print('X has dimensions:', X.shape)\n",
    "print('X is an object of type:', type(X))\n",
    "print('The elements in x are of type:', X.dtype)"
   ]
  },
  {
   "cell_type": "code",
   "execution_count": 28,
   "id": "f1e2fca6",
   "metadata": {},
   "outputs": [
    {
     "name": "stdout",
     "output_type": "stream",
     "text": [
      "X = \n",
      " [[ 8  6]\n",
      " [ 6  7]\n",
      " [ 4 11]]\n",
      "\n",
      "X has dimensions: (3, 2)\n",
      "X is an object of type: <class 'numpy.ndarray'>\n",
      "The elements in X are of type: int32\n"
     ]
    }
   ],
   "source": [
    "# We create a 3 x 2 ndarray with random integers in the half-open interval [4, 15).\n",
    "X = np.random.randint(4,15,size=(3,2))\n",
    "\n",
    "# We print X\n",
    "print('X = \\n', X)\n",
    "print()\n",
    "\n",
    "# We print information about X\n",
    "print('X has dimensions:', X.shape)\n",
    "print('X is an object of type:', type(X))\n",
    "print('The elements in X are of type:', X.dtype)"
   ]
  },
  {
   "cell_type": "markdown",
   "id": "662e00aa",
   "metadata": {},
   "source": [
    "# 20. Create a 1000 x 1000 ndarray of random floats drawn from normal (Gaussian) distribution"
   ]
  },
  {
   "cell_type": "code",
   "execution_count": 29,
   "id": "ab6e3191",
   "metadata": {},
   "outputs": [
    {
     "name": "stdout",
     "output_type": "stream",
     "text": [
      "X = \n",
      " [[-0.09396566  0.1704717  -0.04626514 ... -0.12529374 -0.05831258\n",
      "  -0.01368449]\n",
      " [ 0.07335178  0.13342019 -0.05966785 ... -0.05068656  0.01983392\n",
      "  -0.18358948]\n",
      " [ 0.08081038  0.13781753 -0.0674166  ...  0.09738576  0.08615808\n",
      "   0.0916551 ]\n",
      " ...\n",
      " [ 0.06205081 -0.12895172  0.05545044 ... -0.09017081 -0.05843139\n",
      "  -0.16056248]\n",
      " [ 0.07067731  0.02672932 -0.02459902 ... -0.05052943 -0.06812226\n",
      "   0.08689212]\n",
      " [ 0.14696478 -0.00940339  0.07750493 ... -0.05433355 -0.04611708\n",
      "  -0.05523696]]\n",
      "\n",
      "X has dimensions: (1000, 1000)\n",
      "X is an object of type: <class 'numpy.ndarray'>\n",
      "The elements in X are of type: float64\n",
      "The elements in X have a mean of: -6.0853315118227236e-05\n",
      "The elements in X have a standard deviation of: 0.10001187203478032\n",
      "The maximum value in X is: 0.5024956300384794\n",
      "The minimum value in X is: -0.5010981446760988\n",
      "X has 499877 negative numbers\n",
      "X has 500123 positive numbers\n"
     ]
    }
   ],
   "source": [
    "# We create a 1000 x 1000 ndarray of random floats drawn from normal (Gaussian) distribution\n",
    "# with a mean of zero and a standard deviation of 0.1.\n",
    "X = np.random.normal(0, 0.1, size=(1000,1000))\n",
    "\n",
    "# We print X\n",
    "print('X = \\n', X)\n",
    "print()\n",
    "\n",
    "# We print information about X\n",
    "print('X has dimensions:', X.shape)\n",
    "print('X is an object of type:', type(X))\n",
    "print('The elements in X are of type:', X.dtype)\n",
    "print('The elements in X have a mean of:', X.mean())\n",
    "print('The elements in X have a standard deviation of:', X.std())\n",
    "print('The maximum value in X is:', X.max())\n",
    "print('The minimum value in X is:', X.min())\n",
    "print('X has', (X < 0).sum(), 'negative numbers')\n",
    "print('X has', (X > 0).sum(), 'positive numbers')"
   ]
  },
  {
   "cell_type": "markdown",
   "id": "13d80665",
   "metadata": {},
   "source": [
    "### Question: create a 4 x 4 ndarray that only contains consecutive even numbers from 2 to 32 (inclusive)"
   ]
  },
  {
   "cell_type": "code",
   "execution_count": 30,
   "id": "b36c817d",
   "metadata": {},
   "outputs": [
    {
     "data": {
      "text/plain": [
       "array([[ 2.,  4.,  6.,  8.],\n",
       "       [10., 12., 14., 16.],\n",
       "       [18., 20., 22., 24.],\n",
       "       [26., 28., 30., 32.]])"
      ]
     },
     "execution_count": 30,
     "metadata": {},
     "output_type": "execute_result"
    }
   ],
   "source": [
    "#X=np.arange(2,34,2).reshape(4,4)\n",
    "X=np.linspace(2,32,16).reshape(4,4)\n",
    "X"
   ]
  },
  {
   "cell_type": "markdown",
   "id": "a68449fd",
   "metadata": {},
   "source": [
    "# 21. Accessing, Deleting, and Inserting Elements Into ndarrays"
   ]
  },
  {
   "cell_type": "code",
   "execution_count": 31,
   "id": "8472f4a3",
   "metadata": {},
   "outputs": [
    {
     "name": "stdout",
     "output_type": "stream",
     "text": [
      "x =  [1 2 3 4 5]\n",
      "\n",
      "This is First Element in x: 1\n",
      "This is Second Element in x: 2\n",
      "This is Fifth (Last) Element in x: 5\n",
      "\n",
      "This is First Element in x: 1\n",
      "This is Second Element in x: 2\n",
      "This is Fifth (Last) Element in x: 5\n"
     ]
    }
   ],
   "source": [
    "# We create a rank 1 ndarray that contains integers from 1 to 5\n",
    "x = np.array([1, 2, 3, 4, 5])\n",
    "\n",
    "# We print x\n",
    "print('x = ', x)\n",
    "print()\n",
    "\n",
    "# Let's access some elements with positive indices\n",
    "print('This is First Element in x:', x[0]) \n",
    "print('This is Second Element in x:', x[1])\n",
    "print('This is Fifth (Last) Element in x:', x[4])\n",
    "print()\n",
    "\n",
    "# Let's access the same elements with negative indices\n",
    "print('This is First Element in x:', x[-5])\n",
    "print('This is Second Element in x:', x[-4])\n",
    "print('This is Fifth (Last) Element in x:', x[-1])"
   ]
  },
  {
   "cell_type": "code",
   "execution_count": 32,
   "id": "04b6e9d9",
   "metadata": {},
   "outputs": [
    {
     "name": "stdout",
     "output_type": "stream",
     "text": [
      "Original:\n",
      " x =  [1 2 3 4 5]\n",
      "Modified:\n",
      " x =  [ 1  2  3 20  5]\n"
     ]
    }
   ],
   "source": [
    "# We create a rank 1 ndarray that contains integers from 1 to 5\n",
    "x = np.array([1, 2, 3, 4, 5])\n",
    "\n",
    "# We print the original x\n",
    "print('Original:\\n x = ', x)\n",
    "\n",
    "# We change the fourth element in x from 4 to 20\n",
    "x[3] = 20\n",
    "\n",
    "# We print x after it was modified \n",
    "print('Modified:\\n x = ', x)"
   ]
  },
  {
   "cell_type": "code",
   "execution_count": 33,
   "id": "77480787",
   "metadata": {},
   "outputs": [
    {
     "name": "stdout",
     "output_type": "stream",
     "text": [
      "X = \n",
      " [[1 2 3]\n",
      " [4 5 6]\n",
      " [7 8 9]]\n",
      "\n",
      "This is (0,0) Element in X: 1\n",
      "This is (0,1) Element in X: 2\n",
      "This is (2,2) Element in X: 9\n",
      "This is (2,1) Element in X: 8\n"
     ]
    }
   ],
   "source": [
    "# We create a 3 x 3 rank 2 ndarray that contains integers from 1 to 9\n",
    "X = np.array([[1,2,3],[4,5,6],[7,8,9]])\n",
    "\n",
    "# We print X\n",
    "print('X = \\n', X)\n",
    "print()\n",
    "\n",
    "# Let's access some elements in X\n",
    "print('This is (0,0) Element in X:', X[0,0])\n",
    "print('This is (0,1) Element in X:', X[0,1])\n",
    "print('This is (2,2) Element in X:', X[2,2])\n",
    "print('This is (2,1) Element in X:', X[2][1])"
   ]
  },
  {
   "cell_type": "code",
   "execution_count": 34,
   "id": "fcfe06fc",
   "metadata": {},
   "outputs": [
    {
     "name": "stdout",
     "output_type": "stream",
     "text": [
      "Original X = \n",
      " [[1 2 3]\n",
      " [4 5 6]\n",
      " [7 8 9]]\n",
      "\n",
      "Modified X = \n",
      " [[20  2  3]\n",
      " [ 4  5  6]\n",
      " [ 7  8  9]]\n"
     ]
    }
   ],
   "source": [
    "# We create a 3 x 3 rank 2 ndarray that contains integers from 1 to 9\n",
    "X = np.array([[1,2,3],[4,5,6],[7,8,9]])\n",
    "\n",
    "# We print the original x\n",
    "print('Original X = \\n', X)\n",
    "print()\n",
    "\n",
    "# We change the (0,0) element in X from 1 to 20\n",
    "X[0,0] = 20\n",
    "\n",
    "# We print X after it was modified \n",
    "print('Modified X = \\n', X)"
   ]
  },
  {
   "cell_type": "markdown",
   "id": "ad0b7624",
   "metadata": {},
   "source": [
    "# 22. How to delete element from array?"
   ]
  },
  {
   "cell_type": "markdown",
   "id": "f7a273fd",
   "metadata": {},
   "source": [
    "### How to delete an element in a 1D array:"
   ]
  },
  {
   "cell_type": "code",
   "execution_count": 35,
   "id": "1432c010",
   "metadata": {},
   "outputs": [
    {
     "name": "stdout",
     "output_type": "stream",
     "text": [
      "Original x =  [1 2 3 4 5]\n",
      "\n",
      "Modified x =  [2 3 4]\n"
     ]
    }
   ],
   "source": [
    "# np.delete(ndarray, elements, axis)\n",
    "\n",
    "# We create a rank 1 ndarray \n",
    "x = np.array([1, 2, 3, 4, 5])\n",
    "\n",
    "# We print x\n",
    "print('Original x = ', x)\n",
    "\n",
    "# We delete the first and last element of x\n",
    "x = np.delete(x, [0,4])\n",
    "\n",
    "# We print x with the first and last element deleted\n",
    "print()\n",
    "print('Modified x = ', x)"
   ]
  },
  {
   "cell_type": "markdown",
   "id": "d4c6762b",
   "metadata": {},
   "source": [
    "### How to delete a row or a column in a 2D array:"
   ]
  },
  {
   "cell_type": "code",
   "execution_count": 36,
   "id": "f147c0ea",
   "metadata": {},
   "outputs": [
    {
     "name": "stdout",
     "output_type": "stream",
     "text": [
      "Original Y = \n",
      " [[1 2 3]\n",
      " [4 5 6]\n",
      " [7 8 9]]\n",
      "\n",
      "w = \n",
      " [[4 5 6]\n",
      " [7 8 9]]\n",
      "\n",
      "v = \n",
      " [[2]\n",
      " [5]\n",
      " [8]]\n"
     ]
    }
   ],
   "source": [
    "# We create a rank 2 ndarray\n",
    "Y = np.array([[1,2,3],[4,5,6],[7,8,9]])\n",
    "\n",
    "# We print Y\n",
    "print('Original Y = \\n', Y)\n",
    "\n",
    "# We delete the first row of y\n",
    "w = np.delete(Y, 0, axis=0)\n",
    "\n",
    "# We delete the first and last column of y\n",
    "v = np.delete(Y, [0,2], axis=1)\n",
    "\n",
    "# We print w\n",
    "print()\n",
    "print('w = \\n', w)\n",
    "\n",
    "# We print v\n",
    "print()\n",
    "print('v = \\n', v)"
   ]
  },
  {
   "cell_type": "markdown",
   "id": "167782d5",
   "metadata": {},
   "source": [
    "# 23. How to append an element to array?"
   ]
  },
  {
   "cell_type": "markdown",
   "id": "db66a0d4",
   "metadata": {},
   "source": [
    "### How to append an element to a 1D array:"
   ]
  },
  {
   "cell_type": "code",
   "execution_count": 37,
   "id": "3370fab3",
   "metadata": {},
   "outputs": [
    {
     "name": "stdout",
     "output_type": "stream",
     "text": [
      "Original x =  [1 2 3 4 5]\n",
      "\n",
      "x =  [1 2 3 4 5 6]\n",
      "\n",
      "x =  [1 2 3 4 5 6 7 8]\n",
      "\n"
     ]
    }
   ],
   "source": [
    "# np.append(ndarray, elements, axis)\n",
    "\n",
    "# We create a rank 1 ndarray \n",
    "x = np.array([1, 2, 3, 4, 5])\n",
    "\n",
    "# We print x\n",
    "print('Original x = ', x)\n",
    "print()\n",
    "\n",
    "# We append the integer 6 to x\n",
    "x=np.append(x, 6)\n",
    "\n",
    "# We print x\n",
    "print('x = ', x)\n",
    "print()\n",
    "\n",
    "# We append the integer 7 and 8 to x\n",
    "x = np.append(x, [7,8])\n",
    "\n",
    "# We print x\n",
    "print('x = ', x)\n",
    "print()"
   ]
  },
  {
   "cell_type": "markdown",
   "id": "037208cf",
   "metadata": {},
   "source": [
    "### How to append a row or a column in a 2D array:"
   ]
  },
  {
   "cell_type": "code",
   "execution_count": 38,
   "id": "ef772332",
   "metadata": {},
   "outputs": [
    {
     "name": "stdout",
     "output_type": "stream",
     "text": [
      "Original Y = \n",
      " [[1 2 3]\n",
      " [4 5 6]]\n",
      "\n",
      "v = \n",
      " [[1 2 3]\n",
      " [4 5 6]\n",
      " [7 8 9]]\n",
      "\n",
      "q = \n",
      " [[ 1  2  3  9]\n",
      " [ 4  5  6 10]]\n"
     ]
    }
   ],
   "source": [
    "# We create a rank 2 ndarray \n",
    "Y = np.array([[1,2,3],[4,5,6]])\n",
    "\n",
    "# We print Y\n",
    "print('Original Y = \\n', Y)\n",
    "print()\n",
    "\n",
    "# We append a new row containing 7,8,9 to y\n",
    "v = np.append(Y, [[7,8,9]], axis=0)\n",
    "\n",
    "# We append a new column containing 9 and 10 to y\n",
    "q = np.append(Y,[[9],[10]], axis=1)\n",
    "\n",
    "# We print v\n",
    "print('v = \\n', v)\n",
    "print()\n",
    "\n",
    "# We print q\n",
    "print('q = \\n', q)"
   ]
  },
  {
   "cell_type": "markdown",
   "id": "95299325",
   "metadata": {},
   "source": [
    "# 24. How to insert element to an array?"
   ]
  },
  {
   "cell_type": "markdown",
   "id": "7a28c7cc",
   "metadata": {},
   "source": [
    "### How to insert an element to a 1D array:"
   ]
  },
  {
   "cell_type": "code",
   "execution_count": 39,
   "id": "6281399b",
   "metadata": {},
   "outputs": [
    {
     "name": "stdout",
     "output_type": "stream",
     "text": [
      "Original x =  [1 2 5 6 7]\n",
      "\n",
      "x =  [1 2 3 4 5 6 7]\n"
     ]
    }
   ],
   "source": [
    "#np.insert(ndarray, index, elements, axis)\n",
    "# We create a rank 1 ndarray \n",
    "x = np.array([1, 2, 5, 6, 7])\n",
    "\n",
    "# We print x\n",
    "print('Original x = ', x)\n",
    "\n",
    "# We insert the integer 3 and 4 between 2 and 5 in x. \n",
    "x = np.insert(x,2,[3,4])\n",
    "\n",
    "# We print x with the inserted elements\n",
    "print()\n",
    "print('x = ', x)"
   ]
  },
  {
   "cell_type": "markdown",
   "id": "d16120e3",
   "metadata": {},
   "source": [
    "### How to insert a row or a column in a 2D array:"
   ]
  },
  {
   "cell_type": "code",
   "execution_count": 40,
   "id": "4493df22",
   "metadata": {},
   "outputs": [
    {
     "name": "stdout",
     "output_type": "stream",
     "text": [
      "Original Y = \n",
      " [[1 2 3]\n",
      " [7 8 9]]\n",
      "\n",
      "w = \n",
      " [[1 2 3]\n",
      " [4 5 6]\n",
      " [7 8 9]]\n",
      "\n",
      "v = \n",
      " [[ 1  5  2  3]\n",
      " [ 7 10  8  9]]\n"
     ]
    }
   ],
   "source": [
    "# We create a rank 2 ndarray \n",
    "Y = np.array([[1,2,3],[7,8,9]])\n",
    "\n",
    "# We print Y\n",
    "print('Original Y = \\n', Y)\n",
    "\n",
    "# We insert a row between the first and last row of y\n",
    "w = np.insert(Y,1,[4,5,6],axis=0)\n",
    "\n",
    "# We insert a column full of 5s between the first and second column of y\n",
    "v = np.insert(Y,1,[5,10], axis=1)\n",
    "\n",
    "# We print w\n",
    "print()\n",
    "print('w = \\n', w)\n",
    "\n",
    "# We print v\n",
    "print()\n",
    "print('v = \\n', v)"
   ]
  },
  {
   "cell_type": "markdown",
   "id": "4f4ec9ef",
   "metadata": {},
   "source": [
    "# 25. How to stack an array to another vertical and horizontal?"
   ]
  },
  {
   "cell_type": "code",
   "execution_count": 41,
   "id": "35ffe07e",
   "metadata": {},
   "outputs": [
    {
     "name": "stdout",
     "output_type": "stream",
     "text": [
      "x =  [1 2]\n",
      "\n",
      "Y = \n",
      " [[3 4]\n",
      " [5 6]]\n",
      "\n",
      "z = \n",
      " [[1 2]\n",
      " [3 4]\n",
      " [5 6]]\n",
      "\n",
      "w = \n",
      " [[3 4 1]\n",
      " [5 6 2]]\n"
     ]
    }
   ],
   "source": [
    "# We create a rank 1 ndarray \n",
    "x = np.array([1,2])\n",
    "\n",
    "# We create a rank 2 ndarray \n",
    "Y = np.array([[3,4],[5,6]])\n",
    "\n",
    "# We print x\n",
    "print('x = ', x)\n",
    "print()\n",
    "\n",
    "# We print Y\n",
    "print('Y = \\n', Y)\n",
    "print()\n",
    "\n",
    "# We stack x on top of Y\n",
    "z = np.vstack((x,Y))\n",
    "\n",
    "# We stack x on the right of Y. We need to reshape x in order to stack it on the right of Y. \n",
    "w = np.hstack((Y,x.reshape(2,1)))\n",
    "\n",
    "# We print z\n",
    "print('z = \\n', z)\n",
    "print()\n",
    "\n",
    "# We print w\n",
    "print('w = \\n', w)"
   ]
  },
  {
   "cell_type": "code",
   "execution_count": 42,
   "id": "dbe2551c",
   "metadata": {},
   "outputs": [
    {
     "data": {
      "text/plain": [
       "array([[1],\n",
       "       [2]])"
      ]
     },
     "execution_count": 42,
     "metadata": {},
     "output_type": "execute_result"
    }
   ],
   "source": [
    "x.reshape(2,1)"
   ]
  },
  {
   "cell_type": "markdown",
   "id": "c3b78b28",
   "metadata": {},
   "source": [
    "# 26. Slicing ndarrays"
   ]
  },
  {
   "cell_type": "code",
   "execution_count": 43,
   "id": "da4c53a3",
   "metadata": {},
   "outputs": [
    {
     "name": "stdout",
     "output_type": "stream",
     "text": [
      "X = \n",
      " [[ 0  1  2  3  4]\n",
      " [ 5  6  7  8  9]\n",
      " [10 11 12 13 14]\n",
      " [15 16 17 18 19]]\n",
      "\n",
      "Z = \n",
      " [[ 7  8  9]\n",
      " [12 13 14]\n",
      " [17 18 19]]\n",
      "\n",
      "W = \n",
      " [[ 7  8  9]\n",
      " [12 13 14]\n",
      " [17 18 19]]\n",
      "\n",
      "Y = \n",
      " [[ 2  3  4]\n",
      " [ 7  8  9]\n",
      " [12 13 14]]\n",
      "\n",
      "v =  [10 11 12 13 14]\n",
      "\n",
      "q =  [ 2  7 12 17]\n",
      "q shape= (4,)\n",
      "\n",
      "R = \n",
      " [[ 2]\n",
      " [ 7]\n",
      " [12]\n",
      " [17]]\n",
      "R shape= (4, 1)\n"
     ]
    }
   ],
   "source": [
    "# We create a 4 x 5 ndarray that contains integers from 0 to 19\n",
    "X = np.arange(20).reshape(4, 5)\n",
    "\n",
    "# We print X\n",
    "print('X = \\n', X)\n",
    "print()\n",
    "\n",
    "# We select all the elements that are in the 2nd through 4th rows and in the 3rd to 5th columns\n",
    "Z = X[1:4,2:5]\n",
    "\n",
    "# We print Z\n",
    "print('Z = \\n', Z)\n",
    "print()\n",
    "\n",
    "# We can select the same elements as above using method 2\n",
    "W = X[1:,2:5]\n",
    "\n",
    "# We print W\n",
    "print('W = \\n', W)\n",
    "print()\n",
    "\n",
    "# We select all the elements that are in the 1st through 3rd rows and in the 3rd to 4th columns\n",
    "Y = X[:3,2:5]\n",
    "\n",
    "# We print Y\n",
    "print('Y = \\n', Y)\n",
    "print()\n",
    "\n",
    "# We select all the elements in the 3rd row\n",
    "v = X[2,:]\n",
    "\n",
    "# We print v\n",
    "print('v = ', v)\n",
    "print()\n",
    "\n",
    "# We select all the elements in the 3rd column\n",
    "q = X[:,2]\n",
    "\n",
    "# We print q\n",
    "print('q = ', q)\n",
    "print(\"q shape=\",q.shape)\n",
    "print()\n",
    "\n",
    "# We select all the elements in the 3rd column but return a rank 2 ndarray\n",
    "R = X[:,2:3]\n",
    "\n",
    "# We print R\n",
    "print('R = \\n', R)\n",
    "print(\"R shape=\",R.shape)"
   ]
  },
  {
   "cell_type": "markdown",
   "id": "b010089a",
   "metadata": {},
   "source": [
    "# 27. Slicing important feature"
   ]
  },
  {
   "cell_type": "code",
   "execution_count": 44,
   "id": "795944c6",
   "metadata": {},
   "outputs": [
    {
     "name": "stdout",
     "output_type": "stream",
     "text": [
      "X = \n",
      " [[ 0  1  2  3  4]\n",
      " [ 5  6  7  8  9]\n",
      " [10 11 12 13 14]\n",
      " [15 16 17 18 19]]\n",
      "\n",
      "Z = \n",
      " [[ 7  8  9]\n",
      " [12 13 14]\n",
      " [17 18 19]]\n",
      "\n",
      "Z = \n",
      " [[  7   8   9]\n",
      " [ 12  13  14]\n",
      " [ 17  18 555]]\n",
      "\n",
      "X = \n",
      " [[  0   1   2   3   4]\n",
      " [  5   6   7   8   9]\n",
      " [ 10  11  12  13  14]\n",
      " [ 15  16  17  18 555]]\n",
      "\n"
     ]
    }
   ],
   "source": [
    "# We create a 4 x 5 ndarray that contains integers from 0 to 19\n",
    "X = np.arange(20).reshape(4, 5)\n",
    "\n",
    "# We print X\n",
    "print('X = \\n', X)\n",
    "print()\n",
    "\n",
    "# We select all the elements that are in the 2nd through 4th rows and in the 3rd to 4th columns\n",
    "Z = X[1:4,2:5]\n",
    "\n",
    "# We print Z\n",
    "print('Z = \\n', Z)\n",
    "print()\n",
    "\n",
    "# We change the last element in Z to 555\n",
    "Z[2,2] = 555\n",
    "\n",
    "# We print Z\n",
    "print('Z = \\n', Z)\n",
    "print()\n",
    "\n",
    "# We print X\n",
    "print('X = \\n', X)\n",
    "print()"
   ]
  },
  {
   "cell_type": "markdown",
   "id": "964b3ab2",
   "metadata": {},
   "source": [
    "# 28. Using copy function with slicing"
   ]
  },
  {
   "cell_type": "code",
   "execution_count": 45,
   "id": "871b27b5",
   "metadata": {},
   "outputs": [
    {
     "name": "stdout",
     "output_type": "stream",
     "text": [
      "X = \n",
      " [[ 0  1  2  3  4]\n",
      " [ 5  6  7  8  9]\n",
      " [10 11 12 13 14]\n",
      " [15 16 17 18 19]]\n",
      "\n",
      "X = \n",
      " [[ 0  1  2  3  4]\n",
      " [ 5  6  7  8  9]\n",
      " [10 11 12 13 14]\n",
      " [15 16 17 18 19]]\n",
      "\n",
      "Z = \n",
      " [[  7   8   9]\n",
      " [ 12  13  14]\n",
      " [ 17  18 555]]\n",
      "\n",
      "W = \n",
      " [[  7   8   9]\n",
      " [ 12  13  14]\n",
      " [ 17  18 444]]\n"
     ]
    }
   ],
   "source": [
    "# We create a 4 x 5 ndarray that contains integers from 0 to 19\n",
    "X = np.arange(20).reshape(4, 5)\n",
    "\n",
    "# We print X\n",
    "print('X = \\n', X)\n",
    "print()\n",
    "\n",
    "# create a copy of the slice using the np.copy() function\n",
    "Z = np.copy(X[1:4,2:5])\n",
    "\n",
    "#  create a copy of the slice using the copy as a method\n",
    "W = X[1:4,2:5].copy()\n",
    "\n",
    "# We change the last element in Z to 555\n",
    "Z[2,2] = 555\n",
    "\n",
    "# We change the last element in W to 444\n",
    "W[2,2] = 444\n",
    "\n",
    "# We print X\n",
    "print('X = \\n', X)\n",
    "print()\n",
    "\n",
    "# We print Z\n",
    "print('Z = \\n', Z)\n",
    "print()\n",
    "\n",
    "# We print W\n",
    "print('W = \\n', W)"
   ]
  },
  {
   "cell_type": "markdown",
   "id": "3a77a172",
   "metadata": {},
   "source": [
    "# 29. Using 1D array as indices for slicing"
   ]
  },
  {
   "cell_type": "code",
   "execution_count": 46,
   "id": "184532e0",
   "metadata": {},
   "outputs": [
    {
     "name": "stdout",
     "output_type": "stream",
     "text": [
      "X = \n",
      " [[ 0  1  2  3  4]\n",
      " [ 5  6  7  8  9]\n",
      " [10 11 12 13 14]\n",
      " [15 16 17 18 19]]\n",
      "\n",
      "indices =  [1 3]\n",
      "\n",
      "Y = \n",
      " [[ 5  6  7  8  9]\n",
      " [15 16 17 18 19]]\n",
      "\n",
      "Z = \n",
      " [[ 1  3]\n",
      " [ 6  8]\n",
      " [11 13]\n",
      " [16 18]]\n"
     ]
    }
   ],
   "source": [
    "# We create a 4 x 5 ndarray that contains integers from 0 to 19\n",
    "X = np.arange(20).reshape(4, 5)\n",
    "\n",
    "# We create a rank 1 ndarray that will serve as indices to select elements from X\n",
    "indices = np.array([1,3])\n",
    "\n",
    "# We print X\n",
    "print('X = \\n', X)\n",
    "print()\n",
    "\n",
    "# We print indices\n",
    "print('indices = ', indices)\n",
    "print()\n",
    "\n",
    "# We use the indices ndarray to select the 2nd and 4th row of X\n",
    "Y = X[indices,:]\n",
    "\n",
    "# We use the indices ndarray to select the 2nd and 4th column of X\n",
    "Z = X[:, indices]\n",
    "\n",
    "# We print Y\n",
    "print('Y = \\n', Y)\n",
    "print()\n",
    "\n",
    "# We print Z\n",
    "print('Z = \\n', Z)"
   ]
  },
  {
   "cell_type": "markdown",
   "id": "b8116a6f",
   "metadata": {},
   "source": [
    "# 30. Using diag function to get the diagonal elements"
   ]
  },
  {
   "cell_type": "code",
   "execution_count": 47,
   "id": "c6f1452a",
   "metadata": {},
   "outputs": [
    {
     "name": "stdout",
     "output_type": "stream",
     "text": [
      "X = \n",
      " [[ 0  1  2  3  4]\n",
      " [ 5  6  7  8  9]\n",
      " [10 11 12 13 14]\n",
      " [15 16 17 18 19]\n",
      " [20 21 22 23 24]]\n",
      "\n",
      "z = [ 0  6 12 18 24]\n",
      "\n",
      "y = [ 1  7 13 19]\n",
      "\n",
      "w =  [ 5 11 17 23]\n"
     ]
    }
   ],
   "source": [
    "# np.diag(ndarray, k=N)\n",
    "\n",
    "# We create a 4 x 5 ndarray that contains integers from 0 to 19\n",
    "X = np.arange(25).reshape(5, 5)\n",
    "\n",
    "# We print X\n",
    "print('X = \\n', X)\n",
    "print()\n",
    "\n",
    "# We print the elements in the main diagonal of X\n",
    "print('z =', np.diag(X))\n",
    "print()\n",
    "\n",
    "# We print the elements above the main diagonal of X\n",
    "print('y =', np.diag(X, k=1))\n",
    "print()\n",
    "\n",
    "# We print the elements below the main diagonal of X\n",
    "print('w = ', np.diag(X, k=-1))"
   ]
  },
  {
   "cell_type": "markdown",
   "id": "def3e421",
   "metadata": {},
   "source": [
    "# 31. Using unique function with array"
   ]
  },
  {
   "cell_type": "code",
   "execution_count": 48,
   "id": "eeb96486",
   "metadata": {},
   "outputs": [
    {
     "name": "stdout",
     "output_type": "stream",
     "text": [
      "X = \n",
      " [[  9   2   3]\n",
      " [  5 150   8]\n",
      " [  1   2   3]]\n",
      "\n",
      "The unique elements in X are: [  1   2   3   5   8   9 150]\n"
     ]
    }
   ],
   "source": [
    "# np.unique(ndarray)\n",
    "\n",
    "# Create 3 x 3 ndarray with repeated values\n",
    "X = np.array([[9,2,3],[5,150,8],[1,2,3]])\n",
    "\n",
    "# We print X\n",
    "print('X = \\n', X)\n",
    "print()\n",
    "\n",
    "# We print the unique elements of X \n",
    "print('The unique elements in X are:',np.unique(X))"
   ]
  },
  {
   "cell_type": "markdown",
   "id": "3b8e056d",
   "metadata": {},
   "source": [
    "# Boolean Indexing, Set Operations, and Sorting"
   ]
  },
  {
   "cell_type": "markdown",
   "id": "372898ef",
   "metadata": {},
   "source": [
    "# 32. Boolean indexing"
   ]
  },
  {
   "cell_type": "code",
   "execution_count": 49,
   "id": "93574e3f",
   "metadata": {},
   "outputs": [
    {
     "name": "stdout",
     "output_type": "stream",
     "text": [
      "Original X = \n",
      " [[ 0  1  2  3  4]\n",
      " [ 5  6  7  8  9]\n",
      " [10 11 12 13 14]\n",
      " [15 16 17 18 19]\n",
      " [20 21 22 23 24]]\n",
      "\n",
      "The elements in X that are greater than 10: [11 12 13 14 15 16 17 18 19 20 21 22 23 24]\n",
      "The elements in X that less than or equal to 7: [0 1 2 3 4 5 6 7]\n",
      "The elements in X that are between 10 and 17: [11 12 13 14 15 16]\n",
      "\n",
      "X = \n",
      " [[ 0  1  2  3  4]\n",
      " [ 5  6  7  8  9]\n",
      " [10 -1 -1 -1 -1]\n",
      " [-1 -1 17 18 19]\n",
      " [20 21 22 23 24]]\n"
     ]
    }
   ],
   "source": [
    "# We create a 5 x 5 ndarray that contains integers from 0 to 24\n",
    "X = np.arange(25).reshape(5, 5)\n",
    "\n",
    "# We print X\n",
    "print('Original X = \\n', X)\n",
    "print()\n",
    "\n",
    "# We use Boolean indexing to select elements in X:\n",
    "print('The elements in X that are greater than 10:', X[X > 10])\n",
    "print('The elements in X that less than or equal to 7:', X[X <= 7])\n",
    "print('The elements in X that are between 10 and 17:', X[(X > 10) & (X < 17)])\n",
    "print()\n",
    "\n",
    "# We use Boolean indexing to assign the elements that are between 10 and 17 the value of -1\n",
    "X[(X > 10) & (X < 17)] = -1\n",
    "\n",
    "# We print X\n",
    "print('X = \\n', X)"
   ]
  },
  {
   "cell_type": "markdown",
   "id": "7b2d39ea",
   "metadata": {},
   "source": [
    "# 33. Set operations and comparing two arrays"
   ]
  },
  {
   "cell_type": "code",
   "execution_count": 50,
   "id": "3919d153",
   "metadata": {},
   "outputs": [
    {
     "name": "stdout",
     "output_type": "stream",
     "text": [
      "x =  [1 2 3 4 5]\n",
      "\n",
      "y =  [6 7 2 8 4]\n",
      "\n",
      "The elements that are both in x and y: [2 4]\n",
      "The elements that are in x that are not in y: [1 3 5]\n",
      "The elements that are in y that are not in x: [6 7 8]\n",
      "All the elements of x and y: [1 2 3 4 5 6 7 8]\n"
     ]
    }
   ],
   "source": [
    "# We create a rank 1 ndarray\n",
    "x = np.array([1,2,3,4,5])\n",
    "\n",
    "# We create a rank 1 ndarray\n",
    "y = np.array([6,7,2,8,4])\n",
    "\n",
    "# We print x\n",
    "print('x = ', x)\n",
    "print()\n",
    "\n",
    "# We print y\n",
    "print('y = ', y)\n",
    "print()\n",
    "\n",
    "# We use set operations to compare x and y:\n",
    "print('The elements that are both in x and y:', np.intersect1d(x,y))\n",
    "print('The elements that are in x that are not in y:', np.setdiff1d(x,y))\n",
    "print('The elements that are in y that are not in x:', np.setdiff1d(y,x))\n",
    "print('All the elements of x and y:',np.union1d(x,y))"
   ]
  },
  {
   "cell_type": "markdown",
   "id": "e11aa828",
   "metadata": {},
   "source": [
    "# 34. Sorting using sort function"
   ]
  },
  {
   "cell_type": "code",
   "execution_count": 51,
   "id": "e0a0f11a",
   "metadata": {},
   "outputs": [
    {
     "name": "stdout",
     "output_type": "stream",
     "text": [
      "Original x = \t\t\t [ 8  3 10  2 10  9 10  2  5  3]\n",
      "\n",
      "Sorted x (out of place):\t [ 2  2  3  3  5  8  9 10 10 10]\n",
      "\n",
      "x after sorting:\t\t [ 8  3 10  2 10  9 10  2  5  3]\n"
     ]
    }
   ],
   "source": [
    "# We create an unsorted rank 1 ndarray\n",
    "x = np.random.randint(1,12,size=(10,))\n",
    "\n",
    "# We print x\n",
    "print('Original x = \\t\\t\\t', x)\n",
    "print()\n",
    "\n",
    "# We sort x and print the sorted array using sort as a function.\n",
    "print('Sorted x (out of place):\\t', np.sort(x))\n",
    "print()\n",
    "\n",
    "# When we sort out of place the original array remains intact. To see this we print x again\n",
    "print('x after sorting:\\t\\t', x)"
   ]
  },
  {
   "cell_type": "markdown",
   "id": "321aa2b1",
   "metadata": {},
   "source": [
    "# 35. Keeping only unique elements after sorting"
   ]
  },
  {
   "cell_type": "code",
   "execution_count": 52,
   "id": "fed85ae8",
   "metadata": {},
   "outputs": [
    {
     "name": "stdout",
     "output_type": "stream",
     "text": [
      "Original x =  [ 8  3 10  2 10  9 10  2  5  3]\n",
      "\n",
      "Sorted unique elements of X= [ 2  3  5  8  9 10]\n"
     ]
    }
   ],
   "source": [
    "print('Original x = ', x)\n",
    "print()\n",
    "\n",
    "# We sort x but only keep the unique elements in x\n",
    "print(\"Sorted unique elements of X=\", np.sort(np.unique(x)))"
   ]
  },
  {
   "cell_type": "markdown",
   "id": "f086d719",
   "metadata": {},
   "source": [
    "# 36. Sorting using sort method"
   ]
  },
  {
   "cell_type": "code",
   "execution_count": 53,
   "id": "c9fdbb2d",
   "metadata": {},
   "outputs": [
    {
     "name": "stdout",
     "output_type": "stream",
     "text": [
      "Original x =  [ 7  5  6  6  7  2  7 10  9 10]\n",
      "\n",
      "x after sorting: [ 2  5  6  6  7  7  7  9 10 10]\n"
     ]
    }
   ],
   "source": [
    "# We create an unsorted rank 1 ndarray\n",
    "x = np.random.randint(1,11,size=(10,))\n",
    "\n",
    "# We print x\n",
    "print('Original x = ', x)\n",
    "print()\n",
    "\n",
    "# We sort x and print the sorted array using sort as a method.\n",
    "x.sort()\n",
    "\n",
    "# When we sort in place the original array is changed to the sorted array. To see this we print x again\n",
    "print('x after sorting:', x)"
   ]
  },
  {
   "cell_type": "markdown",
   "id": "316bcc56",
   "metadata": {},
   "source": [
    "# 37. Sorting 2D array by columns and rows"
   ]
  },
  {
   "cell_type": "code",
   "execution_count": 54,
   "id": "765a7a3a",
   "metadata": {},
   "outputs": [
    {
     "name": "stdout",
     "output_type": "stream",
     "text": [
      "Original X = \n",
      " [[10  6  5 10  2]\n",
      " [ 2  7  2 10  2]\n",
      " [ 8  8  9 10  2]\n",
      " [ 9 10  5  8  4]\n",
      " [ 4  1  6  1  2]]\n",
      "\n",
      "X with sorted columns :\n",
      " [[ 2  1  2  1  2]\n",
      " [ 4  6  5  8  2]\n",
      " [ 8  7  5 10  2]\n",
      " [ 9  8  6 10  2]\n",
      " [10 10  9 10  4]]\n",
      "\n",
      "X with sorted rows :\n",
      " [[ 2  5  6 10 10]\n",
      " [ 2  2  2  7 10]\n",
      " [ 2  8  8  9 10]\n",
      " [ 4  5  8  9 10]\n",
      " [ 1  1  2  4  6]]\n"
     ]
    }
   ],
   "source": [
    "# We create an unsorted rank 2 ndarray\n",
    "X = np.random.randint(1,11,size=(5,5))\n",
    "\n",
    "# We print X\n",
    "print('Original X = \\n', X)\n",
    "print()\n",
    "\n",
    "# We sort the columns of X and print the sorted array\n",
    "print('X with sorted columns :\\n', np.sort(X, axis = 0))\n",
    "print()\n",
    "\n",
    "# We sort the rows of X and print the sorted array\n",
    "print('X with sorted rows :\\n', np.sort(X, axis = 1))"
   ]
  },
  {
   "cell_type": "markdown",
   "id": "13081126",
   "metadata": {},
   "source": [
    "# Arithmetic operations and Broadcasting"
   ]
  },
  {
   "cell_type": "markdown",
   "id": "632bbe4d",
   "metadata": {},
   "source": [
    "# 38. Arithmetic operations"
   ]
  },
  {
   "cell_type": "code",
   "execution_count": 55,
   "id": "b8b4b35d",
   "metadata": {},
   "outputs": [
    {
     "name": "stdout",
     "output_type": "stream",
     "text": [
      "x =  [1 2 3 4]\n",
      "\n",
      "y =  [5.5 6.5 7.5 8.5]\n",
      "\n",
      "x + y =\t\t [ 6.5  8.5 10.5 12.5]\n",
      "add(x,y) =\t [ 6.5  8.5 10.5 12.5]\n",
      "\n",
      "x - y =\t\t [-4.5 -4.5 -4.5 -4.5]\n",
      "subtract(x,y) =\t [-4.5 -4.5 -4.5 -4.5]\n",
      "\n",
      "x * y =\t\t [ 5.5 13.  22.5 34. ]\n",
      "multiply(x,y) =\t [ 5.5 13.  22.5 34. ]\n",
      "\n",
      "x / y =\t\t [0.18181818 0.30769231 0.4        0.47058824]\n",
      "divide(x,y) =\t [0.18181818 0.30769231 0.4        0.47058824]\n"
     ]
    }
   ],
   "source": [
    "# We create two rank 1 ndarrays\n",
    "x = np.array([1,2,3,4])\n",
    "y = np.array([5.5,6.5,7.5,8.5])\n",
    "\n",
    "# We print x\n",
    "print('x = ', x)\n",
    "print()\n",
    "\n",
    "# We print y\n",
    "print('y = ', y)\n",
    "print()\n",
    "\n",
    "# We perfrom basic element-wise operations using arithmetic symbols and functions\n",
    "print('x + y =\\t\\t', x + y)\n",
    "print('add(x,y) =\\t', np.add(x,y))\n",
    "print()\n",
    "print('x - y =\\t\\t', x - y)\n",
    "print('subtract(x,y) =\\t', np.subtract(x,y))\n",
    "print()\n",
    "print('x * y =\\t\\t', x * y)\n",
    "print('multiply(x,y) =\\t', np.multiply(x,y))\n",
    "print()\n",
    "print('x / y =\\t\\t', x / y)\n",
    "print('divide(x,y) =\\t', np.divide(x,y))"
   ]
  },
  {
   "cell_type": "markdown",
   "id": "618fabe1",
   "metadata": {},
   "source": [
    "# 39. Arithmetic operations on 2D arrays"
   ]
  },
  {
   "cell_type": "code",
   "execution_count": 56,
   "id": "b17ba579",
   "metadata": {},
   "outputs": [
    {
     "name": "stdout",
     "output_type": "stream",
     "text": [
      "X = \n",
      " [[1 2]\n",
      " [3 4]]\n",
      "\n",
      "Y = \n",
      " [[5.5 6.5]\n",
      " [7.5 8.5]]\n",
      "\n",
      "X + Y = \n",
      " [[ 6.5  8.5]\n",
      " [10.5 12.5]]\n",
      "\n",
      "add(X,Y) = \n",
      " [[ 6.5  8.5]\n",
      " [10.5 12.5]]\n",
      "\n",
      "X - Y = \n",
      " [[-4.5 -4.5]\n",
      " [-4.5 -4.5]]\n",
      "\n",
      "subtract(X,Y) = \n",
      " [[-4.5 -4.5]\n",
      " [-4.5 -4.5]]\n",
      "\n",
      "X * Y = \n",
      " [[ 5.5 13. ]\n",
      " [22.5 34. ]]\n",
      "\n",
      "multiply(X,Y) = \n",
      " [[ 5.5 13. ]\n",
      " [22.5 34. ]]\n",
      "\n",
      "X / Y = \n",
      " [[0.18181818 0.30769231]\n",
      " [0.4        0.47058824]]\n",
      "\n",
      "divide(X,Y) = \n",
      " [[0.18181818 0.30769231]\n",
      " [0.4        0.47058824]]\n"
     ]
    }
   ],
   "source": [
    "# We create two rank 2 ndarrays\n",
    "X = np.array([1,2,3,4]).reshape(2,2)\n",
    "Y = np.array([5.5,6.5,7.5,8.5]).reshape(2,2)\n",
    "\n",
    "# We print X\n",
    "print('X = \\n', X)\n",
    "print()\n",
    "\n",
    "# We print Y\n",
    "print('Y = \\n', Y)\n",
    "print()\n",
    "\n",
    "# We perform basic element-wise operations using arithmetic symbols and functions\n",
    "print('X + Y = \\n', X + Y)\n",
    "print()\n",
    "print('add(X,Y) = \\n', np.add(X,Y))\n",
    "print()\n",
    "print('X - Y = \\n', X - Y)\n",
    "print()\n",
    "print('subtract(X,Y) = \\n', np.subtract(X,Y))\n",
    "print()\n",
    "print('X * Y = \\n', X * Y)\n",
    "print()\n",
    "print('multiply(X,Y) = \\n', np.multiply(X,Y))\n",
    "print()\n",
    "print('X / Y = \\n', X / Y)\n",
    "print()\n",
    "print('divide(X,Y) = \\n', np.divide(X,Y))"
   ]
  },
  {
   "cell_type": "markdown",
   "id": "ded1392c",
   "metadata": {},
   "source": [
    "# 40. Using sqrt, exp, power functions"
   ]
  },
  {
   "cell_type": "code",
   "execution_count": 57,
   "id": "5e696234",
   "metadata": {},
   "outputs": [
    {
     "name": "stdout",
     "output_type": "stream",
     "text": [
      "x =  [1 2 3 4]\n",
      "\n",
      "EXP(x) = [ 2.71828183  7.3890561  20.08553692 54.59815003]\n",
      "\n",
      "SQRT(x) = [1.         1.41421356 1.73205081 2.        ]\n",
      "\n",
      "POW(x,2) = [ 1  4  9 16]\n"
     ]
    }
   ],
   "source": [
    "# We create a rank 1 ndarray\n",
    "x = np.array([1,2,3,4])\n",
    "\n",
    "# We print x\n",
    "print('x = ', x)\n",
    "print()\n",
    "\n",
    "# We apply different mathematical functions to all elements of x\n",
    "print('EXP(x) =', np.exp(x))\n",
    "print()\n",
    "print('SQRT(x) =',np.sqrt(x))\n",
    "print()\n",
    "print('POW(x,2) =',np.power(x,2)) # We raise all elements to the power of 2"
   ]
  },
  {
   "cell_type": "markdown",
   "id": "67c001b7",
   "metadata": {},
   "source": [
    "# 41. Using mean, sum, min, max, standard deviation, median"
   ]
  },
  {
   "cell_type": "code",
   "execution_count": 58,
   "id": "ceb98734",
   "metadata": {},
   "outputs": [
    {
     "name": "stdout",
     "output_type": "stream",
     "text": [
      "X = \n",
      " [[1 2]\n",
      " [3 4]]\n",
      "\n",
      "Average of all elements in X: 2.5\n",
      "Average of all elements in the columns of X: [2. 3.]\n",
      "Average of all elements in the rows of X: [1.5 3.5]\n",
      "\n",
      "Sum of all elements in X: 10\n",
      "Sum of all elements in the columns of X: [4 6]\n",
      "Sum of all elements in the rows of X: [3 7]\n",
      "\n",
      "Standard Deviation of all elements in X: 1.118033988749895\n",
      "Standard Deviation of all elements in the columns of X: [1. 1.]\n",
      "Standard Deviation of all elements in the rows of X: [0.5 0.5]\n",
      "\n",
      "Median of all elements in X: 2.5\n",
      "Median of all elements in the columns of X: [2. 3.]\n",
      "Median of all elements in the rows of X: [1.5 3.5]\n",
      "\n",
      "Maximum value of all elements in X: 4\n",
      "Maximum value of all elements in the columns of X: [3 4]\n",
      "Maximum value of all elements in the rows of X: [2 4]\n",
      "\n",
      "Minimum value of all elements in X: 1\n",
      "Minimum value of all elements in the columns of X: [1 2]\n",
      "Minimum value of all elements in the rows of X: [1 3]\n"
     ]
    }
   ],
   "source": [
    "# We create a 2 x 2 ndarray\n",
    "X = np.array([[1,2], [3,4]])\n",
    "\n",
    "# We print x\n",
    "print('X = \\n', X)\n",
    "print()\n",
    "\n",
    "print('Average of all elements in X:', X.mean())\n",
    "print('Average of all elements in the columns of X:', X.mean(axis=0))\n",
    "print('Average of all elements in the rows of X:', X.mean(axis=1))\n",
    "print()\n",
    "print('Sum of all elements in X:', X.sum())\n",
    "print('Sum of all elements in the columns of X:', X.sum(axis=0))\n",
    "print('Sum of all elements in the rows of X:', X.sum(axis=1))\n",
    "print()\n",
    "print('Standard Deviation of all elements in X:', X.std())\n",
    "print('Standard Deviation of all elements in the columns of X:', X.std(axis=0))\n",
    "print('Standard Deviation of all elements in the rows of X:', X.std(axis=1))\n",
    "print()\n",
    "print('Median of all elements in X:', np.median(X))\n",
    "print('Median of all elements in the columns of X:', np.median(X,axis=0))\n",
    "print('Median of all elements in the rows of X:', np.median(X,axis=1))\n",
    "print()\n",
    "print('Maximum value of all elements in X:', X.max())\n",
    "print('Maximum value of all elements in the columns of X:', X.max(axis=0))\n",
    "print('Maximum value of all elements in the rows of X:', X.max(axis=1))\n",
    "print()\n",
    "print('Minimum value of all elements in X:', X.min())\n",
    "print('Minimum value of all elements in the columns of X:', X.min(axis=0))\n",
    "print('Minimum value of all elements in the rows of X:', X.min(axis=1))"
   ]
  },
  {
   "cell_type": "markdown",
   "id": "48932f09",
   "metadata": {},
   "source": [
    "# 42. Add single numbers to all the elements of 2D array"
   ]
  },
  {
   "cell_type": "code",
   "execution_count": 59,
   "id": "6338b2f7",
   "metadata": {},
   "outputs": [
    {
     "name": "stdout",
     "output_type": "stream",
     "text": [
      "X = \n",
      " [[1 2]\n",
      " [3 4]]\n",
      "\n",
      "3 * X = \n",
      " [[ 3  6]\n",
      " [ 9 12]]\n",
      "\n",
      "3 + X = \n",
      " [[4 5]\n",
      " [6 7]]\n",
      "\n",
      "X - 3 = \n",
      " [[-2 -1]\n",
      " [ 0  1]]\n",
      "\n",
      "X / 3 = \n",
      " [[0.33333333 0.66666667]\n",
      " [1.         1.33333333]]\n"
     ]
    }
   ],
   "source": [
    "# We create a 2 x 2 ndarray\n",
    "X = np.array([[1,2], [3,4]])\n",
    "\n",
    "# We print x\n",
    "print('X = \\n', X)\n",
    "print()\n",
    "\n",
    "print('3 * X = \\n', 3 * X)\n",
    "print()\n",
    "print('3 + X = \\n', 3 + X)\n",
    "print()\n",
    "print('X - 3 = \\n', X - 3)\n",
    "print()\n",
    "print('X / 3 = \\n', X / 3)"
   ]
  },
  {
   "cell_type": "markdown",
   "id": "ae1a7b9a",
   "metadata": {},
   "source": [
    "# 43. Broadcasting"
   ]
  },
  {
   "cell_type": "code",
   "execution_count": 60,
   "id": "b2c55220",
   "metadata": {},
   "outputs": [
    {
     "name": "stdout",
     "output_type": "stream",
     "text": [
      "x =  [1 2 3]\n",
      "\n",
      "Y = \n",
      " [[1 2 3]\n",
      " [4 5 6]\n",
      " [7 8 9]]\n",
      "\n",
      "Z = \n",
      " [[1]\n",
      " [2]\n",
      " [3]]\n",
      "\n",
      "x + Y = \n",
      " [[ 2  4  6]\n",
      " [ 5  7  9]\n",
      " [ 8 10 12]]\n",
      "\n",
      "Z + Y = \n",
      " [[ 2  3  4]\n",
      " [ 6  7  8]\n",
      " [10 11 12]]\n"
     ]
    }
   ],
   "source": [
    "# We create a rank 1 ndarray\n",
    "x = np.array([1,2,3])\n",
    "\n",
    "# We create a 3 x 3 ndarray\n",
    "Y = np.array([[1,2,3],[4,5,6],[7,8,9]])\n",
    "\n",
    "# We create a 3 x 1 ndarray\n",
    "Z = np.array([1,2,3]).reshape(3,1)\n",
    "\n",
    "# We print x\n",
    "print('x = ', x)\n",
    "print()\n",
    "\n",
    "# We print Y\n",
    "print('Y = \\n', Y)\n",
    "print()\n",
    "\n",
    "# We print Z\n",
    "print('Z = \\n', Z)\n",
    "print()\n",
    "\n",
    "print('x + Y = \\n', x + Y)\n",
    "print()\n",
    "print('Z + Y = \\n',Z + Y)"
   ]
  }
 ],
 "metadata": {
  "kernelspec": {
   "display_name": "Python 3",
   "language": "python",
   "name": "python3"
  },
  "language_info": {
   "codemirror_mode": {
    "name": "ipython",
    "version": 3
   },
   "file_extension": ".py",
   "mimetype": "text/x-python",
   "name": "python",
   "nbconvert_exporter": "python",
   "pygments_lexer": "ipython3",
   "version": "3.8.8"
  }
 },
 "nbformat": 4,
 "nbformat_minor": 5
}
